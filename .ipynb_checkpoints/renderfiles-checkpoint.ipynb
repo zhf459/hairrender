{
 "cells": [
  {
   "cell_type": "code",
   "execution_count": 50,
   "metadata": {},
   "outputs": [],
   "source": [
    "import os\n",
    "import numpy"
   ]
  },
  {
   "cell_type": "code",
   "execution_count": 60,
   "metadata": {},
   "outputs": [
    {
     "name": "stdout",
     "output_type": "stream",
     "text": [
      "Adele\n",
      "10\n",
      "7\n"
     ]
    }
   ],
   "source": [
    "program = \"./hair\"\n",
    "foldername = [\"Adele\",\"Cate2\",\"Cate4\",\"Hillary\",\"Hillary2\",\"Justin\",\"Theresa2\"]\n",
    "renderfolder = \"render2\"\n",
    "print(foldername[0])\n",
    "print(str(10))\n",
    "print(len(foldername))"
   ]
  },
  {
   "cell_type": "code",
   "execution_count": 53,
   "metadata": {},
   "outputs": [],
   "source": [
    "foldername = [\"Adele\"]"
   ]
  },
  {
   "cell_type": "code",
   "execution_count": 54,
   "metadata": {},
   "outputs": [],
   "source": [
    "step = 5\n",
    "a = numpy.arange(0,181,step)\n",
    "b = numpy.arange(-5,-180,-step)\n",
    "angle = numpy.concatenate((a,numpy.flip(b,0)),axis = 0)\n",
    "for index in range(0,len(angle)):\n",
    "    i = angle[index]\n",
    "    for name in foldername:\n",
    "        os.system(program+\" ./result/\"+name+\"/regrow1_local.hair ./result/\"+name+\"/headmesh0.95.ply 0 \"+str(i)+\n",
    "                 \" 0 ./result/\"+renderfolder+\"/\"+name+\"/color2/\"+str(index)+\".jpg\")\n",
    "#os.system(program +\"  ./result/Adele/regrow1_local.hair ./result/Adele/headmeshcolored.ply 0 0 0 ./result/render/Adele/test.jpg\")"
   ]
  },
  {
   "cell_type": "code",
   "execution_count": null,
   "metadata": {},
   "outputs": [],
   "source": [
    "step = 5\n",
    "a = numpy.arange(0,181,step)\n",
    "b = numpy.arange(-5,-180,-step)\n",
    "angle = numpy.concatenate((a,numpy.flip(b,0)),axis = 0)\n",
    "#foldername = ['Hillary']\n",
    "\n",
    "foldername = [\"Cate2\",\"Hillary\",\"Justin\",\"Theresa2\"]\n",
    "for index in range(0,len(angle)):\n",
    "    i = angle[index]\n",
    "    for name in foldername:\n",
    "        #print(name)\n",
    "        os.system(program+\" ./result/4view/\"+name+\"_4viewrandom.hair ./result/autohair/bust.ply 0 \"+str(i)+\n",
    "                 \" 0 ./result/\"+renderfolder+\"/\"+name+\"/4view/\"+str(index)+\".jpg\")"
   ]
  },
  {
   "cell_type": "code",
   "execution_count": 70,
   "metadata": {},
   "outputs": [],
   "source": [
    "#angle = [50,-50]\n",
    "foldername = [Cate2\",\"Hillary\",\"Justin\",\"Theresa2\"]\n",
    "angle = [0,45,90,135,180,-135,-90,-45]\n",
    "for i in angle:\n",
    "    for name in foldername:\n",
    "        os.system(program+\" ./result/4view/\"+name+\"_4viewrandom.hair ./result/autohair/bust.ply 0 \"+str(i)+\n",
    "              \" 0 ./result/\"+renderfolder+\"/4view/\"+name+\"/\"+str(i)+\".jpg\")"
   ]
  },
  {
   "cell_type": "code",
   "execution_count": 14,
   "metadata": {},
   "outputs": [],
   "source": [
    "#render Adele\n",
    "poses = [\"1.2299 -0.2274 -0.8016\",\"-1.098 29.04 -351.73\",\"1.975 -32.129 -2.917\"]\n",
    "filename =[\"0016\",\"0112\",\"0188\"]\n",
    "for i in range(0,3):\n",
    "    os.system(program+\" ./result/Adele/regrow1_local.hair ./result/Adele/headmeshcolored.ply \"+poses[i]+\n",
    "                  \" ./result/\"+renderfolder+\"/Adele/\"+filename[i]+\"_c.jpg\")"
   ]
  },
  {
   "cell_type": "code",
   "execution_count": 64,
   "metadata": {},
   "outputs": [],
   "source": [
    "#render Adele autohair\n",
    "poses = [\"1.2299 -0.2274 -0.8016\",\"-1.098 29.04 -351.73\",\"1.975 -32.129 -2.917\"]\n",
    "filename =[\"0016\",\"0112\",\"0188\"]\n",
    "for i in range(0,3):\n",
    "    os.system(program+\" ./result/autohair/Adele2.hair ./result/autohair/bust.ply \"+poses[i]+\n",
    "                  \" ./result/\"+renderfolder+\"/Adele/\"+filename[i]+\"_2.jpg\")"
   ]
  },
  {
   "cell_type": "code",
   "execution_count": 15,
   "metadata": {},
   "outputs": [],
   "source": [
    "#render Cate2\n",
    "poses = [\"-4.632 1.769 -3\",\"10 -55.024 0\",\"20 -40.8 5\",\"6.783 28.58 -5.63\"]\n",
    "filename = [\"0001\",\"0223\",\"0248\",\"0417\"]\n",
    "for i in range(0,4):\n",
    "    os.system(program+\" ./result/Cate2/regrow1_local.hair ./result/Cate2/headmeshcolored.ply \"+poses[i]+\n",
    "                  \" ./result/\"+renderfolder+\"/Cate2/\"+filename[i]+\"_c.jpg\")"
   ]
  },
  {
   "cell_type": "code",
   "execution_count": 63,
   "metadata": {},
   "outputs": [],
   "source": [
    "#render Cate2\n",
    "poses = [\"-4.632 1.769 -3\",\"10 -55.024 0\",\"20 -40.8 5\",\"6.783 28.58 -5.63\"]\n",
    "filename = [\"0001\",\"0223\",\"0248\",\"0417\"]\n",
    "for i in range(0,4):\n",
    "    os.system(program+\" ./result/autohair/Cate2.hair ./result/autohair/bust.ply \"+poses[i]+\n",
    "                  \" ./result/\"+renderfolder+\"/Cate2/\"+filename[i]+\"_2.jpg\")"
   ]
  },
  {
   "cell_type": "code",
   "execution_count": 33,
   "metadata": {},
   "outputs": [],
   "source": [
    "#render Cate Cut\n",
    "poses = [\"-4.632 1.769 -3\",\"10 -55.024 0\",\"20 -40.8 5\",\"6.783 28.58 -5.63\"]\n",
    "filename = [\"0001\",\"0223\",\"0248\",\"0417\"]\n",
    "for i in range(0,4):\n",
    "    os.system(program+\" ./result/Cate2/regrow1_cut2.hair ./result/Cate2/headmeshcolored.ply \"+poses[i]+\n",
    "                  \" ./result/\"+renderfolder+\"/Cate2/\"+filename[i]+\"_cut.jpg\")"
   ]
  },
  {
   "cell_type": "code",
   "execution_count": 35,
   "metadata": {},
   "outputs": [],
   "source": [
    "#render Cate smooth\n",
    "poses = [\"-4.632 1.769 -3\",\"10 -55.024 0\",\"20 -40.8 5\",\"6.783 28.58 -5.63\"]\n",
    "filename = [\"0001\",\"0223\",\"0248\",\"0417\"]\n",
    "for i in range(0,4):\n",
    "    os.system(program+\" ./result/Cate2/curlytest2/alpha16.hair ./result/Cate2/headmeshcolored.ply \"+poses[i]+\n",
    "                  \" ./result/\"+renderfolder+\"/Cate2/\"+filename[i]+\"_smooth.jpg\")"
   ]
  },
  {
   "cell_type": "code",
   "execution_count": 36,
   "metadata": {},
   "outputs": [],
   "source": [
    "#render Cate curly\n",
    "poses = [\"-4.632 1.769 -3\",\"10 -55.024 0\",\"20 -40.8 5\",\"6.783 28.58 -5.63\"]\n",
    "filename = [\"0001\",\"0223\",\"0248\",\"0417\"]\n",
    "for i in range(0,4):\n",
    "    os.system(program+\" ./result/Cate2/curlytest2/curlyzyx3_0.003.hair ./result/Cate2/headmeshcolored.ply \"+poses[i]+\n",
    "                  \" ./result/\"+renderfolder+\"/Cate2/\"+filename[i]+\"_curly.jpg\")"
   ]
  },
  {
   "cell_type": "code",
   "execution_count": 16,
   "metadata": {},
   "outputs": [],
   "source": [
    "#render Cate4\n",
    "poses = [\"3.137 50.147 0\",\"-2 24 3\",\"3 35 -10\",\"2 -30.86 0\"]\n",
    "filename = [\"087\",\"144\",\"182\",\"432\"]\n",
    "for i in range(0,4):\n",
    "    os.system(program+\" ./result/Cate4/regrow1_local.hair ./result/Cate4/headmeshcolored.ply \"+poses[i]+\n",
    "                  \" ./result/\"+renderfolder+\"/Cate4/\"+filename[i]+\"_c.jpg\")"
   ]
  },
  {
   "cell_type": "code",
   "execution_count": 17,
   "metadata": {},
   "outputs": [],
   "source": [
    "#render Hillary\n",
    "poses = [\"-2.65 24.58 4\",\"-4.34 10 -357.072\",\"-0.982 -55 -4\",\"-12.81 50 12\"]\n",
    "filename = [\"0071\",\"0081\",\"0110\",\"0184\"]\n",
    "for i in range(0,4):\n",
    "    os.system(program+\" ./result/Hillary/regrow1_local.hair ./result/Hillary/headmeshcolored.ply \"+poses[i]+\n",
    "                  \" ./result/\"+renderfolder+\"/Hillary/\"+filename[i]+\"_c.jpg\")"
   ]
  },
  {
   "cell_type": "code",
   "execution_count": 65,
   "metadata": {},
   "outputs": [],
   "source": [
    "#render Hillary\n",
    "poses = [\"-2.65 24.58 4\",\"-4.34 10 -357.072\",\"-0.982 -55 -4\",\"-12.81 50 12\"]\n",
    "filename = [\"0071\",\"0081\",\"0110\",\"0184\"]\n",
    "for i in range(0,4):\n",
    "    os.system(program+\" ./result/autohair/Hillary2.hair ./result/autohair/bust.ply \"+poses[i]+\n",
    "                  \" ./result/\"+renderfolder+\"/Hillary/\"+filename[i]+\"_2.jpg\")"
   ]
  },
  {
   "cell_type": "code",
   "execution_count": 18,
   "metadata": {},
   "outputs": [],
   "source": [
    "#render Hillary2\n",
    "poses = [\"-10.69 53.44 10\",\"-8 5 5\",\"-5.26 -25.20 0\",\"-13.25 -65 -10\"]\n",
    "filename = [\"0142\",\"0215\",\"0242\",\"0278\"]\n",
    "for i in range(0,4):\n",
    "    os.system(program+\" ./result/Hillary2/regrow1_local.hair ./result/Hillary2/headmeshcolored.ply \"+poses[i]+\n",
    "                  \" ./result/\"+renderfolder+\"/Hillary2/\"+filename[i]+\"_c.jpg\")"
   ]
  },
  {
   "cell_type": "code",
   "execution_count": 19,
   "metadata": {},
   "outputs": [],
   "source": [
    "#render Justin\n",
    "poses = [\"3.749 -28.27 0\",\"-1 -4 -2\",\"5 51.22 5\",\"1.129 10 4\",\"10 -50 0\"]\n",
    "filename = [\"0044\",\"0069\",\"0147\",\"0514\",\"0640\"]\n",
    "for i in range(0,5):\n",
    "    os.system(program+\" ./result/Justin/regrow1_local.hair ./result/Justin/headmeshcolored.ply \"+poses[i]+\n",
    "                  \" ./result/\"+renderfolder+\"/Justin/\"+filename[i]+\"_c.jpg\")"
   ]
  },
  {
   "cell_type": "code",
   "execution_count": 69,
   "metadata": {},
   "outputs": [],
   "source": [
    "#render Justin\n",
    "poses = [\"3.749 -28.27 0\",\"-1 -4 -2\",\"5 51.22 5\",\"1.129 10 4\",\"10 -50 0\"]\n",
    "filename = [\"0044\",\"0069\",\"0147\",\"0514\",\"0640\"]\n",
    "for i in range(0,5):\n",
    "    os.system(program+\" ./result/autohair/Justin2.hair ./result/autohair/bust.ply \"+poses[i]+\n",
    "                  \" ./result/\"+renderfolder+\"/Justin/\"+filename[i]+\"_2.jpg\")"
   ]
  },
  {
   "cell_type": "code",
   "execution_count": 20,
   "metadata": {},
   "outputs": [],
   "source": [
    "#render Theresa\n",
    "poses = [\"7 -30 7\",\"-1.81 40.44 -356.01\",\"6.85 0 -3\",\"-3.24 28.57 5\",\"6.256 -60.81 -2.62\"]\n",
    "filename = [\"0012\",\"0033\",\"0093\",\"0399\",\"0426\"]\n",
    "for i in range(0,5):\n",
    "    os.system(program+\" ./result/Theresa2/regrow1_local.hair ./result/Theresa2/headmeshcolored.ply \"+poses[i]+\n",
    "                  \" ./result/\"+renderfolder+\"/Theresa2/\"+filename[i]+\"_c.jpg\")"
   ]
  },
  {
   "cell_type": "code",
   "execution_count": 68,
   "metadata": {},
   "outputs": [],
   "source": [
    "#render Theresa\n",
    "poses = [\"7 -30 7\",\"-1.81 40.44 -356.01\",\"6.85 0 -3\",\"-3.24 28.57 5\",\"6.256 -60.81 -2.62\"]\n",
    "filename = [\"0012\",\"0033\",\"0093\",\"0399\",\"0426\"]\n",
    "for i in range(0,5):\n",
    "    os.system(program+\" ./result/autohair/Theresa2.hair ./result/autohair/bust.ply \"+poses[i]+\n",
    "                  \" ./result/\"+renderfolder+\"/Theresa2/\"+filename[i]+\"_2.jpg\")"
   ]
  },
  {
   "cell_type": "code",
   "execution_count": 31,
   "metadata": {},
   "outputs": [],
   "source": [
    "#render morphing\n",
    "startpose=[-4.34,10,2.928]\n",
    "endpose = [-13.25,-65,-10]\n",
    "steps = [1,0.75,0.5,0.25,0]\n",
    "for i in steps:\n",
    "    currentpose = np.asarray(startpose) * i+ np.asarray(endpose)*(1-i)\n",
    "    os.system(program+\" ./result/Hillary/morphtest2/hair\"+str(i)+\".hair ./result/Hillary/headmeshcolored.ply \"+\n",
    "             str(currentpose[0])+\" \"+str(currentpose[1])+\" \"+str(currentpose[2])+\" ./result/\"+renderfolder+\"/morphing/hair\"\n",
    "              +str(i)+\".jpg\")"
   ]
  },
  {
   "cell_type": "code",
   "execution_count": 32,
   "metadata": {},
   "outputs": [],
   "source": [
    "#render morphing\n",
    "startpose=[-4.632, 1.769, -3]\n",
    "endpose = [3, 35, -10]\n",
    "steps = [1,0.75,0.5,0.25,0]\n",
    "for i in steps:\n",
    "    currentpose = np.asarray(startpose) * i+ np.asarray(endpose)*(1-i)\n",
    "    os.system(program+\" ./result/Cate2/morphtest/hair\"+str(i)+\".hair ./result/Cate2/headmeshcolored.ply \"+\n",
    "             str(currentpose[0])+\" \"+str(currentpose[1])+\" \"+str(currentpose[2])+\" ./result/\"+renderfolder+\"/morphing2/hair\"\n",
    "              +str(i)+\".jpg\")"
   ]
  },
  {
   "cell_type": "code",
   "execution_count": 55,
   "metadata": {},
   "outputs": [],
   "source": [
    "#render morphing\n",
    "#startpose = [0, 0 ,0]\n",
    "#endpose = [0, 0 ,0]\n",
    "startpose=[-4.34,10,2.928]\n",
    "endpose = [-13.25,-65,-10]\n",
    "steps = numpy.append(numpy.arange(1,0,-0.025),[0]);\n",
    "for i in range(0,len(steps)):\n",
    "    if i== 0 or i == len(steps)-1:\n",
    "        filename = str(steps[i])[0]\n",
    "    else:\n",
    "        filename =  str(steps[i])\n",
    "    currentpose = numpy.asarray(startpose) * steps[i]+ numpy.asarray(endpose)*(1-steps[i])\n",
    "    os.system(program+\" ./result/Hillary/morphtest2/hair\"+filename+\".hair ./result/Hillary/headmeshcolored.ply \"+\n",
    "             str(currentpose[0])+\" \"+str(currentpose[1])+\" \"+str(currentpose[2])+\" ./result/\"+renderfolder+\"/morphing/color/\"\n",
    "              +str(i)+\".jpg\")"
   ]
  },
  {
   "cell_type": "code",
   "execution_count": 58,
   "metadata": {},
   "outputs": [],
   "source": [
    "#render morphing\n",
    "#startpose = [0, 0 ,0]\n",
    "#endpose = [0, 0 ,0]\n",
    "startpose=[-4.632, 1.769, -3]\n",
    "endpose = [3, 35, -10]\n",
    "steps = numpy.append(numpy.arange(1,0,-0.025),[0]);\n",
    "for i in range(0,len(steps)):\n",
    "    if i== 0 or i == len(steps)-1:\n",
    "        filename = str(steps[i])[0]\n",
    "    else:\n",
    "        filename =  str(steps[i])\n",
    "    currentpose = numpy.asarray(startpose) * steps[i]+ numpy.asarray(endpose)*(1-steps[i])\n",
    "    os.system(program+\" ./result/Cate2/morphtest/hair\"+filename+\".hair \"\n",
    "              #\" ./result/autohair/Adele_hair.hair \"\n",
    "              +\"./result/Cate2/headmeshcolored.ply \"+\n",
    "             str(currentpose[0])+\" \"+str(currentpose[1])+\" \"+str(currentpose[2])+\" ./result/\"+renderfolder+\"/morphing2/color/\"\n",
    "              +str(i)+\".jpg\")"
   ]
  },
  {
   "cell_type": "code",
   "execution_count": 16,
   "metadata": {},
   "outputs": [
    {
     "name": "stdout",
     "output_type": "stream",
     "text": [
      "[ 1.     0.975  0.95   0.925  0.9    0.875  0.85   0.825  0.8    0.775\n",
      "  0.75   0.725  0.7    0.675  0.65   0.625  0.6    0.575  0.55   0.525  0.5\n",
      "  0.475  0.45   0.425  0.4    0.375  0.35   0.325  0.3    0.275  0.25\n",
      "  0.225  0.2    0.175  0.15   0.125  0.1    0.075  0.05   0.025  0.   ]\n"
     ]
    }
   ],
   "source": [
    "print(steps)"
   ]
  },
  {
   "cell_type": "code",
   "execution_count": 17,
   "metadata": {},
   "outputs": [
    {
     "ename": "SyntaxError",
     "evalue": "invalid syntax (<ipython-input-17-58019b29f019>, line 1)",
     "output_type": "error",
     "traceback": [
      "\u001b[0;36m  File \u001b[0;32m\"<ipython-input-17-58019b29f019>\"\u001b[0;36m, line \u001b[0;32m1\u001b[0m\n\u001b[0;31m    steps = [1,0.975,0.95，0.925，0.9，0.875，0.85，0.825  ，0.8  ， 0.775，\u001b[0m\n\u001b[0m                         ^\u001b[0m\n\u001b[0;31mSyntaxError\u001b[0m\u001b[0;31m:\u001b[0m invalid syntax\n"
     ]
    }
   ],
   "source": [
    "steps = [1,0.975,0.95，0.925，0.9，0.875，0.85，0.825  ，0.8  ， 0.775，\n",
    "         0.75   ，0.725 ， 0.7 ，   0.675 ， 0.65  ， 0.625 ， 0.6 ，   0.575，  0.55  ， 0.525 ， 0.5，\n",
    "  0.475，  0.45  ， 0.425 ， 0.4   ， 0.375 ， 0.35  ， 0.325  ，0.3  ，  0.275 ， 0.25，\n",
    "  0.225  ，0.2 ，   0.175  ，0.15 ，  0.125 ， 0.1   ， 0.075 ， 0.05   ，0.025 ， 0.]"
   ]
  },
  {
   "cell_type": "code",
   "execution_count": 19,
   "metadata": {},
   "outputs": [
    {
     "name": "stdout",
     "output_type": "stream",
     "text": [
      "[ 1.     0.975  0.95   0.925  0.9    0.875  0.85   0.825  0.8    0.775\n",
      "  0.75   0.725  0.7    0.675  0.65   0.625  0.6    0.575  0.55   0.525  0.5\n",
      "  0.475  0.45   0.425  0.4    0.375  0.35   0.325  0.3    0.275  0.25\n",
      "  0.225  0.2    0.175  0.15   0.125  0.1    0.075  0.05   0.025  0.   ]\n"
     ]
    }
   ],
   "source": [
    "steps = numpy.append(numpy.arange(1,0,-0.025),[0])\n",
    "print steps"
   ]
  },
  {
   "cell_type": "code",
   "execution_count": 22,
   "metadata": {},
   "outputs": [
    {
     "name": "stdout",
     "output_type": "stream",
     "text": [
      "1\n"
     ]
    }
   ],
   "source": [
    "print(str(1.)[0])"
   ]
  },
  {
   "cell_type": "code",
   "execution_count": null,
   "metadata": {},
   "outputs": [],
   "source": []
  }
 ],
 "metadata": {
  "kernelspec": {
   "display_name": "Python 2",
   "language": "python",
   "name": "python2"
  },
  "language_info": {
   "codemirror_mode": {
    "name": "ipython",
    "version": 2
   },
   "file_extension": ".py",
   "mimetype": "text/x-python",
   "name": "python",
   "nbconvert_exporter": "python",
   "pygments_lexer": "ipython2",
   "version": "2.7.14"
  }
 },
 "nbformat": 4,
 "nbformat_minor": 2
}
